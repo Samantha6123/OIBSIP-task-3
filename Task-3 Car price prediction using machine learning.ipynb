{
 "cells": [
  {
   "cell_type": "code",
   "execution_count": null,
   "id": "0d06a96e",
   "metadata": {},
   "outputs": [],
   "source": [
    "import numpy as np\n",
    "import pandas as pd\n",
    "import matplotlib.pyplot as plt\n",
    "import seaborn as sns"
   ]
  },
  {
   "cell_type": "code",
   "execution_count": null,
   "id": "0f8cc8c2",
   "metadata": {},
   "outputs": [],
   "source": [
    "import os\n",
    "for dirname, _, filenames in os.walk('/kaggle/input'):\n",
    "    for filename in filenames:\n",
    "        print(os.path.join(dirname, filename))"
   ]
  },
  {
   "cell_type": "code",
   "execution_count": null,
   "id": "b667cac9",
   "metadata": {},
   "outputs": [],
   "source": [
    "df = pd.read_csv(\"CarPrice.csv\")\n",
    "df"
   ]
  },
  {
   "cell_type": "code",
   "execution_count": null,
   "id": "bd55a9c7",
   "metadata": {},
   "outputs": [],
   "source": [
    "df.describe()"
   ]
  },
  {
   "cell_type": "code",
   "execution_count": null,
   "id": "093bdbc0",
   "metadata": {},
   "outputs": [],
   "source": [
    "df.isnull().sum()"
   ]
  },
  {
   "cell_type": "code",
   "execution_count": null,
   "id": "1d14001b",
   "metadata": {},
   "outputs": [],
   "source": [
    "CompanyName=df['CarName'].apply(lambda x: x.split(' ')[0])\n",
    "df.insert(3,'CompanyName',CompanyName)\n",
    "df.drop(['CarName'],axis=1,inplace=True)\n",
    "df.head()"
   ]
  },
  {
   "cell_type": "code",
   "execution_count": null,
   "id": "cb17c522",
   "metadata": {},
   "outputs": [],
   "source": [
    "sns.distplot(df['price'])\n",
    "plt.show()"
   ]
  },
  {
   "cell_type": "code",
   "execution_count": null,
   "id": "072bd707",
   "metadata": {},
   "outputs": [],
   "source": [
    "plt.figure(figsize=(16,8))\n",
    "\n",
    "df1 = df.select_dtypes(include=['float64', 'int'])\n",
    "df1 = df1.drop(['symboling', 'car_ID'], axis=1)\n",
    "df1 = df1.corr()\n",
    "\n",
    "sns.heatmap(df1, cmap=\"RdYlBu\", annot=True)\n",
    "plt.show()"
   ]
  },
  {
   "cell_type": "code",
   "execution_count": null,
   "id": "1f7db1eb",
   "metadata": {},
   "outputs": [],
   "source": [
    "df['fueleconomy'] = (0.55 * df['citympg']) + (0.45 * df['highwaympg'])\n",
    "df['price'] = df['price'].astype('int')\n",
    "temp = df.copy()\n",
    "table = temp.groupby(['CompanyName'])['price'].mean()\n",
    "temp = temp.merge(table.reset_index(), how='left',on='CompanyName')\n",
    "bins = [0,10000,20000,40000]\n",
    "cars_bin=['Budget','Medium','Highend']\n",
    "df['carsrange'] = pd.cut(temp['price_y'],bins,right=False,labels=cars_bin)\n",
    "df.head()"
   ]
  },
  {
   "cell_type": "code",
   "execution_count": null,
   "id": "a6454827",
   "metadata": {},
   "outputs": [],
   "source": [
    "cars_lr = df[['price', 'fueltype', 'aspiration','carbody', 'drivewheel','wheelbase',\n",
    "                  'curbweight', 'enginetype', 'cylindernumber', 'enginesize', 'boreratio','horsepower', \n",
    "                    'fueleconomy', 'carlength','carwidth', 'carsrange']]\n",
    "cars_lr.head()"
   ]
  },
  {
   "cell_type": "code",
   "execution_count": null,
   "id": "fef4b6a7",
   "metadata": {},
   "outputs": [],
   "source": [
    "def preds(x,df):\n",
    "    temp = pd.get_dummies(df[x], drop_first = True)\n",
    "    df = pd.concat([df, temp], axis = 1)\n",
    "    df.drop([x], axis = 1, inplace = True)\n",
    "    return df\n",
    "\n",
    "cars_lr = preds('fueltype',cars_lr)\n",
    "cars_lr = preds('aspiration',cars_lr)\n",
    "cars_lr = preds('carbody',cars_lr)\n",
    "cars_lr = preds('drivewheel',cars_lr)\n",
    "cars_lr = preds('enginetype',cars_lr)\n",
    "cars_lr = preds('cylindernumber',cars_lr)\n",
    "cars_lr = preds('carsrange',cars_lr)"
   ]
  },
  {
   "cell_type": "code",
   "execution_count": null,
   "id": "da572458",
   "metadata": {},
   "outputs": [],
   "source": [
    "y=cars_lr.pop('price')\n",
    "x=cars_lr\n",
    "from sklearn.model_selection import train_test_split\n",
    "\n",
    "x_train,x_test,y_train,y_test=train_test_split(x,y,test_size=0.33,random_state=0)"
   ]
  },
  {
   "cell_type": "code",
   "execution_count": null,
   "id": "452f5b09",
   "metadata": {},
   "outputs": [],
   "source": [
    "from sklearn.linear_model import LinearRegression\n",
    "reg=LinearRegression()\n",
    "reg.fit(x_train,y_train)\n",
    "y_pred=reg.predict(x_test)"
   ]
  },
  {
   "cell_type": "code",
   "execution_count": null,
   "id": "aaf3cc7b",
   "metadata": {},
   "outputs": [],
   "source": [
    "import math\n",
    "from sklearn.metrics import r2_score\n",
    "print(\"R2 score: \",r2_score(y_test,y_pred))"
   ]
  },
  {
   "cell_type": "code",
   "execution_count": null,
   "id": "68f31375",
   "metadata": {},
   "outputs": [],
   "source": []
  }
 ],
 "metadata": {
  "kernelspec": {
   "display_name": "Python 3 (ipykernel)",
   "language": "python",
   "name": "python3"
  },
  "language_info": {
   "codemirror_mode": {
    "name": "ipython",
    "version": 3
   },
   "file_extension": ".py",
   "mimetype": "text/x-python",
   "name": "python",
   "nbconvert_exporter": "python",
   "pygments_lexer": "ipython3",
   "version": "3.10.7"
  }
 },
 "nbformat": 4,
 "nbformat_minor": 5
}
